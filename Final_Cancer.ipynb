{
  "cells": [
    {
      "cell_type": "code",
      "execution_count": null,
      "metadata": {
        "id": "R0rY8-JJ-KKq"
      },
      "outputs": [],
      "source": [
        "!pip install tensorflow tensorflow-gpu opencv-python matplotlib\n"
      ]
    },
    {
      "cell_type": "code",
      "execution_count": null,
      "metadata": {
        "id": "HueVZJsS-qHj"
      },
      "outputs": [],
      "source": [
        "!pip list"
      ]
    },
    {
      "cell_type": "code",
      "execution_count": null,
      "metadata": {
        "id": "HNAQcNLS-rmL"
      },
      "outputs": [],
      "source": [
        "import tensorflow as tf\n",
        "import os\n",
        "from matplotlib import pyplot as plt"
      ]
    },
    {
      "cell_type": "code",
      "execution_count": null,
      "metadata": {
        "id": "tA2hkj63-urb"
      },
      "outputs": [],
      "source": [
        "# Avoids Out of Memomry(OOM) errors\n",
        "gpus= tf.config.experimental.list_physical_devices('GPU')\n",
        "for gpu in gpus:\n",
        "  tf.config.experimental.set_memory_growth(gpu, True)\n",
        "# This tells the tensorflow , dont use all the memory instead take as much as you need."
      ]
    },
    {
      "cell_type": "code",
      "execution_count": null,
      "metadata": {
        "id": "CDjMX9R_-wVr"
      },
      "outputs": [],
      "source": [
        "data_dir='/content/drive/MyDrive/Colab Notebooks/Check'\n",
        "os.listdir(os.path.join(data_dir, 'HGG'))\n",
        "valid_dir='/content/drive/MyDrive/Colab Notebooks/Validation'\n",
        "os.listdir(os.path.join(valid_dir, 'Validation'))\n",
        "test_dir='/content/drive/MyDrive/Colab Notebooks/Testing'\n",
        "os.listdir(os.path.join(test_dir, 'Testing'))"
      ]
    },
    {
      "cell_type": "code",
      "execution_count": null,
      "metadata": {
        "id": "FyJEZDK9-yBT"
      },
      "outputs": [],
      "source": [
        "import cv2\n",
        "import imghdr\n",
        "image_exts=['jpeg','jpg','bmp','png']\n",
        "for image_class in os.listdir(data_dir):\n",
        "  for image in os.listdir(os.path.join(data_dir, image_class)):\n",
        "    print(image)\n",
        "for image_class in os.listdir(valid_dir):\n",
        "  for image in os.listdir(os.path.join(valid_dir, image_class)):\n",
        "    print(image)\n",
        "for image_class in os.listdir(test_dir):\n",
        "  for image in os.listdir(os.path.join(test_dir, image_class)):\n",
        "    print(image)"
      ]
    },
    {
      "cell_type": "code",
      "execution_count": null,
      "metadata": {
        "colab": {
          "base_uri": "https://localhost:8080/"
        },
        "id": "Gq4gojSy-0Yj",
        "outputId": "3fdf0d7d-d13a-4a3a-fdec-4e09e5264d4b"
      },
      "outputs": [
        {
          "data": {
            "text/plain": [
              "(240, 240, 3)"
            ]
          },
          "execution_count": 10,
          "metadata": {},
          "output_type": "execute_result"
        }
      ],
      "source": [
        "imgD=cv2.imread(os.path.join(data_dir,'HGG','image.0062 (14).png'))\n",
        "type(imgD)\n",
        "imgD.shape"
      ]
    },
    {
      "cell_type": "code",
      "execution_count": null,
      "metadata": {
        "id": "Bi9_HnBG-2UT"
      },
      "outputs": [],
      "source": [
        "plt.imshow(cv2.cvtColor(imgD, cv2.COLOR_BGR2RGB))\n",
        "plt.show"
      ]
    },
    {
      "cell_type": "code",
      "execution_count": null,
      "metadata": {
        "id": "y34-vr7V-4Jr"
      },
      "outputs": [],
      "source": [
        " for image_class in os.listdir(data_dir):\n",
        "   for image in os.listdir(os.path.join(data_dir,image_class)):\n",
        "     image_path= os.path.join(data_dir, image_class,image)\n",
        "     try:\n",
        "       imgD= cv2.imread(image_path)\n",
        "       tip=imghdr.what(image_path)\n",
        "       if tip not in image_exts:\n",
        "         print(' image not in the list {}'.format(image_path))\n",
        "         os.remove(image_path)\n",
        "     except Exception as e:\n",
        "       print(\"Issues with image {}\".format(image_path))\n",
        "       #os.remove(image_path)"
      ]
    },
    {
      "cell_type": "code",
      "execution_count": null,
      "metadata": {
        "id": "3Z7lH64m-6Ok"
      },
      "outputs": [],
      "source": [
        " for image_class in os.listdir(valid_dir):\n",
        "   for image in os.listdir(os.path.join(valid_dir,image_class)):\n",
        "     image_path= os.path.join(valid_dir, image_class,image)\n",
        "     try:\n",
        "       imgV= cv2.imread(image_path)\n",
        "       tip=imghdr.what(image_path)\n",
        "       if tip not in image_exts:\n",
        "         print(' image not in the list {}'.format(image_path))\n",
        "         os.remove(image_path)\n",
        "     except Exception as e:\n",
        "       print(\"Issues with image {}\".format(image_path))\n",
        "       #os.remove(image_path)"
      ]
    },
    {
      "cell_type": "code",
      "execution_count": null,
      "metadata": {
        "id": "h7Ex1kOO-8Gy"
      },
      "outputs": [],
      "source": [
        " for image_class in os.listdir(test_dir):\n",
        "   for image in os.listdir(os.path.join(test_dir,image_class)):\n",
        "     image_path= os.path.join(test_dir, image_class,image)\n",
        "     try:\n",
        "       imgT= cv2.imread(image_path)\n",
        "       tip=imghdr.what(image_path)\n",
        "       if tip not in image_exts:\n",
        "         print(' image not in the list {}'.format(image_path))\n",
        "         os.remove(image_path)\n",
        "     except Exception as e:\n",
        "       print(\"Issues with image {}\".format(image_path))\n",
        "       #os.remove(image_path)"
      ]
    },
    {
      "cell_type": "code",
      "execution_count": null,
      "metadata": {
        "id": "8bpCqx1h-95L"
      },
      "outputs": [],
      "source": [
        "import numpy as np\n",
        "from matplotlib import pyplot as plt\n",
        "data= tf.keras.utils.image_dataset_from_directory(data_dir)\n",
        "valid=tf.keras.utils.image_dataset_from_directory(valid_dir)\n",
        "test=tf.keras.utils.image_dataset_from_directory(test_dir)"
      ]
    },
    {
      "cell_type": "code",
      "execution_count": null,
      "metadata": {
        "id": "O5bmEkVB-_dS"
      },
      "outputs": [],
      "source": [
        "data_iterator= data.as_numpy_iterator()\n",
        "valid_iterator= valid.as_numpy_iterator()\n",
        "test_iterator= test.as_numpy_iterator()"
      ]
    },
    {
      "cell_type": "code",
      "execution_count": null,
      "metadata": {
        "id": "W2p6oyXt_BVb"
      },
      "outputs": [],
      "source": [
        "data_iterator\n",
        "valid_iterator\n",
        "test_iterator"
      ]
    },
    {
      "cell_type": "code",
      "execution_count": null,
      "metadata": {
        "id": "dXcTSXQP_DBb"
      },
      "outputs": [],
      "source": [
        "batchD= data_iterator.next()\n",
        "len(batchD)\n",
        "batchD[0].shape"
      ]
    },
    {
      "cell_type": "code",
      "execution_count": null,
      "metadata": {
        "id": "XI_L4Cjz_EtM"
      },
      "outputs": [],
      "source": [
        "batchV= valid_iterator.next()\n",
        "print(len(batchV))\n",
        "batchV[0].shape"
      ]
    },
    {
      "cell_type": "code",
      "execution_count": null,
      "metadata": {
        "id": "qCgUfyzB_GXO"
      },
      "outputs": [],
      "source": [
        "batchT=test_iterator.next()\n",
        "len(batchV)\n",
        "batchT[0].shape"
      ]
    },
    {
      "cell_type": "code",
      "execution_count": null,
      "metadata": {
        "id": "N5PbAy7B_IDz"
      },
      "outputs": [],
      "source": [
        "batchD[1]"
      ]
    },
    {
      "cell_type": "code",
      "execution_count": null,
      "metadata": {
        "id": "PxreX23F_Jgn"
      },
      "outputs": [],
      "source": [
        "batchV[1]"
      ]
    },
    {
      "cell_type": "code",
      "execution_count": null,
      "metadata": {
        "id": "sW8BJLpw_LEr"
      },
      "outputs": [],
      "source": [
        "batchT[1]"
      ]
    },
    {
      "cell_type": "code",
      "execution_count": null,
      "metadata": {
        "id": "5ugoTsDa_M0z"
      },
      "outputs": [],
      "source": [
        "fig, ax= plt.subplots(ncols= 4,figsize=(20,20))\n",
        "for idx, img in enumerate( batchD[0][:4]):\n",
        "  ax[idx].imshow(img.astype(int))\n",
        "  ax[idx].title.set_text(batchD[1][idx])"
      ]
    },
    {
      "cell_type": "code",
      "execution_count": null,
      "metadata": {
        "id": "HNcdWp5e_Omb"
      },
      "outputs": [],
      "source": [
        "fig, ax= plt.subplots(ncols= 4,figsize=(20,20))\n",
        "for idx, img in enumerate( batchV[0][:4]):\n",
        "  ax[idx].imshow(img.astype(int))\n",
        "  ax[idx].title.set_text(batchV[1][idx])"
      ]
    },
    {
      "cell_type": "code",
      "execution_count": null,
      "metadata": {
        "id": "tgPGC16-_Qbc"
      },
      "outputs": [],
      "source": [
        "fig, ax= plt.subplots(ncols= 4,figsize=(20,20))\n",
        "for idx, img in enumerate( batchT[0][:4]):\n",
        "  ax[idx].imshow(img.astype(int))\n",
        "  ax[idx].title.set_text(batchT[1][idx])"
      ]
    },
    {
      "cell_type": "code",
      "execution_count": null,
      "metadata": {
        "id": "fO726hsM_SPz"
      },
      "outputs": [],
      "source": [
        "data= data.map(lambda x,y: (x/255, y))\n",
        "valid= valid.map(lambda x,y: (x/255,y))\n",
        "test= test.map(lambda x,y: (x/255,y))"
      ]
    },
    {
      "cell_type": "code",
      "execution_count": null,
      "metadata": {
        "id": "PCAW3fP7_T8z"
      },
      "outputs": [],
      "source": [
        "scaled_iteratorD= data.as_numpy_iterator()\n",
        "scaled_iteratorV= valid.as_numpy_iterator()\n",
        "scaled_iteratorT= test.as_numpy_iterator()"
      ]
    },
    {
      "cell_type": "code",
      "execution_count": null,
      "metadata": {
        "id": "6C9fpMvb_V5S"
      },
      "outputs": [],
      "source": [
        "batchD= scaled_iteratorD.next()\n",
        "batchV= scaled_iteratorV.next()\n",
        "batchT= scaled_iteratorT.next()"
      ]
    },
    {
      "cell_type": "code",
      "execution_count": null,
      "metadata": {
        "id": "Qksiiim9_Xfy"
      },
      "outputs": [],
      "source": [
        "fig, ax= plt.subplots(ncols= 4,figsize=(20,20))\n",
        "for idx, img in enumerate( batchD[0][:4]):\n",
        "  ax[idx].imshow(img)\n",
        "  ax[idx].title.set_text(batchD[1][idx])"
      ]
    },
    {
      "cell_type": "code",
      "execution_count": null,
      "metadata": {
        "id": "QBv8FlhO_ZNM"
      },
      "outputs": [],
      "source": [
        "fig, ax= plt.subplots(ncols= 4,figsize=(20,20))\n",
        "for idx, img in enumerate( batchV[0][:4]):\n",
        "  ax[idx].imshow(img)\n",
        "  ax[idx].title.set_text(batchV[1][idx])"
      ]
    },
    {
      "cell_type": "code",
      "execution_count": null,
      "metadata": {
        "id": "UdL9voPO_a5t"
      },
      "outputs": [],
      "source": [
        "fig, ax= plt.subplots(ncols= 4,figsize=(20,20))\n",
        "for idx, img in enumerate( batchT[0][:4]):\n",
        "  ax[idx].imshow(img)\n",
        "  ax[idx].title.set_text(batchT[1][idx])"
      ]
    },
    {
      "cell_type": "code",
      "execution_count": null,
      "metadata": {
        "id": "sWiJNqYo_dFS"
      },
      "outputs": [],
      "source": [
        "train_size= int(len(data))\n",
        "val_size= int (len(valid))\n",
        "test_size= int(len(test))\n",
        "training= data.take(train_size)\n",
        "validation= data.take(val_size)\n",
        "testing=data.take(test_size)"
      ]
    },
    {
      "cell_type": "code",
      "execution_count": null,
      "metadata": {
        "id": "LHnS9LDY_e5C"
      },
      "outputs": [],
      "source": [
        "from tensorflow.keras.models import Sequential\n",
        "from tensorflow.keras.layers import Conv2D, MaxPooling2D, Flatten, Dense, Dropout"
      ]
    },
    {
      "cell_type": "code",
      "execution_count": null,
      "metadata": {
        "id": "ivpjQkMf_h3y"
      },
      "outputs": [],
      "source": [
        "model= Sequential()"
      ]
    },
    {
      "cell_type": "code",
      "execution_count": null,
      "metadata": {
        "id": "tz-ZeblY_kv6"
      },
      "outputs": [],
      "source": [
        "model.add(Conv2D(16, (3,3),1, activation ='relu',padding=\"same\", input_shape=(256,256,3)))\n",
        "model.add(MaxPooling2D())\n",
        "\n",
        "model.add(Conv2D(32,(3,3), 1,padding=\"same\", activation='relu'))\n",
        "model.add(MaxPooling2D())\n",
        "\n",
        "model.add(Conv2D(64, (3,3),1,padding=\"same\", activation ='relu'))\n",
        "model.add(MaxPooling2D())\n",
        "\n",
        "model.add(Conv2D(128,(3,3),1,padding=\"same\", activation='relu'))\n",
        "model.add(MaxPooling2D())\n",
        "\n",
        "model.add(Conv2D(256,(3,3), 1, padding=\"same\",activation='relu'))\n",
        "model.add(MaxPooling2D())\n",
        "\n",
        "model.add(Conv2D(512,(3,3),1,padding=\"same\", activation='relu'))\n",
        "model.add(MaxPooling2D())\n",
        "\n",
        "model.add(Conv2D(512,(3,3),1, padding=\"same\",activation='relu'))\n",
        "model.add(MaxPooling2D())\n",
        "\n",
        "model.add(Flatten())\n",
        "\n",
        "model.add(Dense(256, activation='relu'))\n",
        "model.add(Dense(1, activation='sigmoid'))"
      ]
    },
    {
      "cell_type": "code",
      "execution_count": null,
      "metadata": {
        "id": "1cl6RLHe_lhD"
      },
      "outputs": [],
      "source": [
        "model.compile('adam', loss= tf.losses.BinaryCrossentropy(), metrics=['accuracy'])"
      ]
    },
    {
      "cell_type": "code",
      "execution_count": null,
      "metadata": {
        "id": "XIYyPcCW_osr"
      },
      "outputs": [],
      "source": [
        "model.summary()"
      ]
    },
    {
      "cell_type": "code",
      "execution_count": null,
      "metadata": {
        "id": "zTM7MeoU_q2D"
      },
      "outputs": [],
      "source": [
        "logdir='logs'"
      ]
    },
    {
      "cell_type": "code",
      "execution_count": null,
      "metadata": {
        "id": "UADaPHFz_svi"
      },
      "outputs": [],
      "source": [
        "tensorboard_callback= tf.keras.callbacks.TensorBoard(log_dir=logdir)"
      ]
    },
    {
      "cell_type": "code",
      "execution_count": null,
      "metadata": {
        "id": "_J9wAnAx_tPM"
      },
      "outputs": [],
      "source": [
        "hist= model.fit(training, epochs=100, validation_data=validation, callbacks=[tensorboard_callback])"
      ]
    },
    {
      "cell_type": "code",
      "execution_count": null,
      "metadata": {
        "id": "D4R0328eOmWI"
      },
      "outputs": [],
      "source": [
        "hist.history"
      ]
    },
    {
      "cell_type": "code",
      "execution_count": null,
      "metadata": {
        "id": "xJaGWIfEOnCg"
      },
      "outputs": [],
      "source": [
        "fig= plt.figure()\n",
        "plt.plot(hist.history['loss'], color='teal', label='loss')\n",
        "plt.plot(hist.history['val_loss'], color='orange', label='val_loss')\n",
        "fig.suptitle('Loss', fontsize= 20)\n",
        "plt.legend(loc='upper right')\n",
        "plt.show"
      ]
    },
    {
      "cell_type": "code",
      "execution_count": null,
      "metadata": {
        "id": "mCwkpqR6PEAB"
      },
      "outputs": [],
      "source": [
        "fig= plt.figure()\n",
        "plt.plot(hist.history['accuracy'], color='teal', label='Training_Accuracy')\n",
        "plt.plot(hist.history['val_accuracy'], color='orange', label='val_accuracy')\n",
        "fig.suptitle('Accuracy', fontsize= 20)\n",
        "plt.legend(loc='upper left')\n",
        "plt.show"
      ]
    },
    {
      "cell_type": "code",
      "execution_count": null,
      "metadata": {
        "id": "BPsEJ4E-PJWZ"
      },
      "outputs": [],
      "source": [
        "from tensorflow.keras.metrics import Precision, Recall, BinaryAccuracy\n",
        "pre= Precision()\n",
        "re= Recall()\n",
        "acc= BinaryAccuracy()"
      ]
    },
    {
      "cell_type": "code",
      "execution_count": null,
      "metadata": {
        "id": "9g0UejITPNgv"
      },
      "outputs": [],
      "source": [
        "for batch in data.as_numpy_iterator():\n",
        "  X, y= batch\n",
        "  yhat= model.predict(X)\n",
        "  pre.update_state(y, yhat)\n",
        "  re.update_state(y, yhat)\n",
        "  acc.update_state( y, yhat)\n",
        "  print(f'Precision: {pre.result().numpy()}, Recall: {re.result().numpy()}, Accuracy:{acc.result().numpy()} ')"
      ]
    },
    {
      "cell_type": "code",
      "execution_count": null,
      "metadata": {
        "colab": {
          "base_uri": "https://localhost:8080/"
        },
        "id": "Ne6EpnY8PTbG",
        "outputId": "dbd1681e-a8ed-4081-cba9-b741c7e2fbea"
      },
      "outputs": [
        {
          "name": "stdout",
          "output_type": "stream",
          "text": [
            "Precision: 1.0, Recall: 0.986100971698761, Accuracy:0.997277557849884 \n"
          ]
        }
      ],
      "source": [
        "print(f'Precision: {pre.result().numpy()}, Recall: {re.result().numpy()}, Accuracy:{acc.result().numpy()} ')"
      ]
    },
    {
      "cell_type": "code",
      "execution_count": null,
      "metadata": {
        "id": "6-c2iyTgmZKW"
      },
      "outputs": [],
      "source": [
        "for batch in valid.as_numpy_iterator():\n",
        "  X, y= batch\n",
        "  yhat= model.predict(X)\n",
        "  pre.update_state(y, yhat)\n",
        "  re.update_state(y, yhat)\n",
        "  acc.update_state( y, yhat)\n",
        "  print(f'Precision: {pre.result().numpy()}, Recall: {re.result().numpy()}, Accuracy:{acc.result().numpy()} ')"
      ]
    },
    {
      "cell_type": "code",
      "execution_count": null,
      "metadata": {
        "id": "QubvPLNNPXXX"
      },
      "outputs": [],
      "source": [
        "img= cv2.imread('/content/drive/MyDrive/Colab Notebooks/Testing/Testing/image.0057 (4).png')\n",
        "plt.imshow(cv2.cvtColor(img, cv2.COLOR_BGR2RGB))\n",
        "plt.show()"
      ]
    },
    {
      "cell_type": "code",
      "execution_count": null,
      "metadata": {
        "id": "hLgDOihaSg4w"
      },
      "outputs": [],
      "source": [
        "resize= tf.image.resize(img,(256, 256))\n",
        "plt.imshow(resize.numpy().astype(int))\n",
        "plt.show()"
      ]
    },
    {
      "cell_type": "code",
      "execution_count": null,
      "metadata": {
        "colab": {
          "base_uri": "https://localhost:8080/"
        },
        "id": "z8ncbgR_Si9c",
        "outputId": "c867e30f-2411-47d5-d4a0-0422a933cc79"
      },
      "outputs": [
        {
          "data": {
            "text/plain": [
              "TensorShape([256, 256, 3])"
            ]
          },
          "execution_count": 50,
          "metadata": {},
          "output_type": "execute_result"
        }
      ],
      "source": [
        "resize.shape"
      ]
    },
    {
      "cell_type": "code",
      "execution_count": null,
      "metadata": {
        "id": "vkZXU2C7SmKE"
      },
      "outputs": [],
      "source": [
        "yhat= model.predict( np.expand_dims(resize/255, 0))\n",
        "yhat"
      ]
    },
    {
      "cell_type": "code",
      "execution_count": null,
      "metadata": {
        "id": "j-KXWJl4Stc8"
      },
      "outputs": [],
      "source": [
        "if yhat > 0.5:\n",
        "  print(f\" The person is LGG \")\n",
        "else:\n",
        "    print(f' the person is HGG')"
      ]
    },
    {
      "cell_type": "code",
      "execution_count": null,
      "metadata": {
        "id": "OXEGq26oS4tf"
      },
      "outputs": [],
      "source": [
        "from tensorflow.keras.models import load_model"
      ]
    },
    {
      "cell_type": "code",
      "execution_count": null,
      "metadata": {
        "id": "F5CimZb2U68Z"
      },
      "outputs": [],
      "source": [
        "model.save(os.path.join('/content/drive/MyDrive/Colab Notebooks/Models','Glioma_cancer_final.h5'))"
      ]
    },
    {
      "cell_type": "code",
      "execution_count": null,
      "metadata": {
        "id": "DbX7LExGVC4F"
      },
      "outputs": [],
      "source": [
        "new_model=load_model(os.path.join('/content/drive/MyDrive/Colab Notebooks/Models','Glioma_cancer.h5'))"
      ]
    },
    {
      "cell_type": "code",
      "execution_count": null,
      "metadata": {
        "colab": {
          "base_uri": "https://localhost:8080/"
        },
        "id": "BX2KjOsHDc0H",
        "outputId": "de819f2c-009e-4c61-ef92-5bab2f229c34"
      },
      "outputs": [
        {
          "name": "stdout",
          "output_type": "stream",
          "text": [
            "None\n"
          ]
        }
      ],
      "source": [
        "print(new_model.history)"
      ]
    },
    {
      "cell_type": "code",
      "execution_count": null,
      "metadata": {
        "id": "tEEoAWXyVP4d"
      },
      "outputs": [],
      "source": [
        "yhat_new= new_model.predict(np.expand_dims(resize/255,0))"
      ]
    },
    {
      "cell_type": "code",
      "execution_count": null,
      "metadata": {
        "id": "CFYmsGJuVUKY"
      },
      "outputs": [],
      "source": [
        "yhat_new"
      ]
    },
    {
      "cell_type": "code",
      "execution_count": null,
      "metadata": {
        "id": "cGvbPX81VXEd"
      },
      "outputs": [],
      "source": [
        "if yhat_new > 0.95:\n",
        "  print(f\" The person is LGG \")\n",
        "else:\n",
        "    print(f' the person is HGG')"
      ]
    },
    {
      "cell_type": "code",
      "execution_count": null,
      "metadata": {
        "id": "L7mhYko2oFfG"
      },
      "outputs": [],
      "source": []
    }
  ],
  "metadata": {
    "accelerator": "GPU",
    "colab": {
      "provenance": []
    },
    "gpuClass": "standard",
    "kernelspec": {
      "display_name": "Python 3",
      "name": "python3"
    },
    "language_info": {
      "name": "python"
    }
  },
  "nbformat": 4,
  "nbformat_minor": 0
}
